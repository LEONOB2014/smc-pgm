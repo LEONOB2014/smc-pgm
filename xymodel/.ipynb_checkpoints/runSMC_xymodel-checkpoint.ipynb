{
 "metadata": {
  "name": "",
  "signature": "sha256:2bbb9778f683f8d64554f1680fe30d024b1879d07748ba639f5af6a232d4da9b"
 },
 "nbformat": 3,
 "nbformat_minor": 0,
 "worksheets": [
  {
   "cells": [
    {
     "cell_type": "code",
     "collapsed": false,
     "input": [
      "%load_ext autoreload\n",
      "%autoreload 2\n",
      "from xymodel import *"
     ],
     "language": "python",
     "metadata": {},
     "outputs": [],
     "prompt_number": 1
    },
    {
     "cell_type": "code",
     "collapsed": false,
     "input": [
      "# MxM example at approx. critical temp\n",
      "M = 16\n",
      "X = classicalXY(16,1.1)"
     ],
     "language": "python",
     "metadata": {},
     "outputs": [],
     "prompt_number": 13
    },
    {
     "cell_type": "code",
     "collapsed": false,
     "input": [
      "# Using standard IS with uniform proposal (does not appear in the paper)\n",
      "samplesIS = 1000\n",
      "X.importanceSampling(samplesIS)"
     ],
     "language": "python",
     "metadata": {},
     "outputs": [
      {
       "metadata": {},
       "output_type": "pyout",
       "prompt_number": 8,
       "text": [
        "528.31983966844894"
       ]
      }
     ],
     "prompt_number": 8
    },
    {
     "cell_type": "code",
     "collapsed": false,
     "input": [
      "# Using AIS with linear temperature scale (Matlab version used in paper)\n",
      "samplesAIS = 100\n",
      "beta = linspace(0,1,100)\n",
      "X.annealedImportanceSampling(beta, samplesAIS)\n"
     ],
     "language": "python",
     "metadata": {},
     "outputs": [
      {
       "metadata": {},
       "output_type": "pyout",
       "prompt_number": 25,
       "text": [
        "656.68662711602155"
       ]
      }
     ],
     "prompt_number": 25
    },
    {
     "cell_type": "markdown",
     "metadata": {},
     "source": [
      "The following code shows implementation examples of Random neighbour and Left-Right that appears in the paper \"Sequential Monte Carlo for Graphical Models\" by Naesseth et. al. (2014)."
     ]
    },
    {
     "cell_type": "code",
     "collapsed": false,
     "input": [
      "# Using random neighbour SMC for PGM\n",
      "particles = 1000\n",
      "index = arange(M**2)\n",
      "random.shuffle(index)\n",
      "X.smc(index,particles,NT=0.6,resamp='sys')"
     ],
     "language": "python",
     "metadata": {},
     "outputs": [
      {
       "metadata": {},
       "output_type": "pyout",
       "prompt_number": 17,
       "text": [
        "633.73322310708932"
       ]
      }
     ],
     "prompt_number": 17
    },
    {
     "cell_type": "code",
     "collapsed": false,
     "input": [
      "# Using left-right SMC for PGM\n",
      "particles = 1000\n",
      "index = np.arange(M**2)\n",
      "X.smc(index,particles,NT=0.6,resamp='sys')"
     ],
     "language": "python",
     "metadata": {},
     "outputs": [
      {
       "metadata": {},
       "output_type": "pyout",
       "prompt_number": 24,
       "text": [
        "656.88175974001626"
       ]
      }
     ],
     "prompt_number": 24
    },
    {
     "cell_type": "code",
     "collapsed": false,
     "input": [],
     "language": "python",
     "metadata": {},
     "outputs": [],
     "prompt_number": 24
    }
   ],
   "metadata": {}
  }
 ]
}